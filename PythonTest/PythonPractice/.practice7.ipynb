{
  "cells": [
    {
      "cell_type": "markdown",
      "metadata": {},
      "source": [
        "### 1.py"
      ]
    },
    {
      "cell_type": "code",
      "execution_count": null,
      "metadata": {},
      "outputs": [],
      "source": "s = input().strip()\nc, f = 0, True\nfor i in s:\n    if i == '(': c += 1\n    elif i == ')':\n        c -= 1\n        if c < 0: f = False; break\nprint('\u914d\u5bf9\u6210\u529f' if f and c == 0 else '\u914d\u5bf9\u4e0d\u6210\u529f')"
    },
    {
      "cell_type": "markdown",
      "metadata": {},
      "source": [
        "### 2.py"
      ]
    },
    {
      "cell_type": "code",
      "execution_count": null,
      "metadata": {},
      "outputs": [],
      "source": "n = int(input())\noriginal = n\nseen = set()\nwhile n != 1 and n not in seen:\n    seen.add(n)\n    n = sum(int(d)**2 for d in str(n))\nif n == 1:\n    print(\"{}\u662f\u5feb\u4e50\u6570\u5b57\".format(original))\nelse:\n    print(\"{}\u4e0d\u662f\u5feb\u4e50\u6570\u5b57\".format(original))\n"
    },
    {
      "cell_type": "markdown",
      "metadata": {},
      "source": [
        "### 3.py"
      ]
    },
    {
      "cell_type": "code",
      "execution_count": null,
      "metadata": {},
      "outputs": [],
      "source": "m, n, k = int(input()), int(input()), int(input())\npeople = list(range(1, m + 1))\nindex = 0\nfor _ in range(n):\n    index = (index + k - 1) % len(people)\n    print(f\"{people.pop(index)}\u53f7\u4e0b\u8239\u4e86\")"
    },
    {
      "cell_type": "markdown",
      "metadata": {},
      "source": [
        "### 4.py"
      ]
    },
    {
      "cell_type": "code",
      "execution_count": null,
      "metadata": {},
      "outputs": [],
      "source": "nums = list(map(int, input().split(',')))\ntarget = int(input())\nfound = False\nfor i in range(len(nums)):\n    for j in range(i+1, len(nums)):\n        if nums[i] + nums[j] == target:\n            print(f\"\u548c\u4e3a\u76ee\u6807\u503c\u7684\u4e24\u4e2a\u6574\u6570\u7684\u4e0b\u6807\u662f ({i}, {j})\")\n            found = True\n            break\n    if found:\n        break\nif not found:\n    print(\"\u548c\u4e3a\u76ee\u6807\u503c\u7684\u4e24\u4e2a\u6574\u6570\u7684\u4e0b\u6807\u662f \u672a\u627e\u5230\")"
    },
    {
      "cell_type": "markdown",
      "metadata": {},
      "source": [
        "### 5.py"
      ]
    },
    {
      "cell_type": "code",
      "execution_count": null,
      "metadata": {},
      "outputs": [],
      "source": "# 1\nn = int(input())\npri = 1\nfor i in range(0, n):\n    pri += i\n    num = pri\n    print(num, end=\" \")\n    for j in range(i + 2, n + 1):\n        num += j\n        print(num, end=\" \")\n    print()\n# 2\nn = int(input())\nmatrix = [[0]*n for _ in range(n)]\nnum = 1\nfor d in range(n):\n    i = d\n    j = 0\n    while i >= 0:\n        matrix[i][j] = num\n        num += 1\n        i -= 1\n        j += 1\nfor row in matrix:\n    print(' '.join(map(str, filter(bool, row))),end=\" \\n\")"
    },
    {
      "cell_type": "markdown",
      "metadata": {},
      "source": [
        "### 6.py"
      ]
    },
    {
      "cell_type": "code",
      "execution_count": null,
      "metadata": {},
      "outputs": [],
      "source": "n = int(input())\nm = list(map(int, input().split()))\nx = list(map(int, input().split()))\ncurrent = {0}\nfor i in range(n):\n    mi = m[i]\n    xi = x[i]\n    current = {w + k * mi for w in current for k in range(xi + 1)}\nprint(len(current))\n"
    }
  ],
  "metadata": {
    "kernelspec": {
      "display_name": "Python 3",
      "language": "python",
      "name": "python3"
    },
    "language_info": {
      "codemirror_mode": {
        "name": "ipython",
        "version": 3
      },
      "file_extension": ".py",
      "mimetype": "text/x-python",
      "name": "python",
      "nbconvert_exporter": "python",
      "pygments_lexer": "ipython3",
      "version": "3.8.5"
    }
  },
  "nbformat": 4,
  "nbformat_minor": 4
}