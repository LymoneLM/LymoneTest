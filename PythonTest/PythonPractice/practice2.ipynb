{
  "cells": [
    {
      "cell_type": "markdown",
      "metadata": {},
      "source": [
        "### 1.py"
      ]
    },
    {
      "cell_type": "code",
      "execution_count": null,
      "metadata": {},
      "outputs": [],
      "source": "str = input()\nlen = len(str)\nflag = True\nfor i in range(len//2):\n    if str[i] != str[len-i-1]:\n        flag = False\nprint(flag)"
    },
    {
      "cell_type": "markdown",
      "metadata": {},
      "source": [
        "### 2.py"
      ]
    },
    {
      "cell_type": "code",
      "execution_count": null,
      "metadata": {},
      "outputs": [],
      "source": "temp = float(input())\nprint(\"{:.2f}\".format((temp-32)*5/9))"
    },
    {
      "cell_type": "markdown",
      "metadata": {},
      "source": [
        "### 3.py"
      ]
    },
    {
      "cell_type": "code",
      "execution_count": null,
      "metadata": {},
      "outputs": [],
      "source": "rate, base, year = input().split(',')\nrate = float(rate)\nbase = int(base)\nyear = int(year)\nper_month = rate*base/(1-1/(1+rate)**(year*12))\nprint(\"{:.2f}\".format(per_month))\nprint(\"{:.2f}\".format(per_month*year*12))"
    },
    {
      "cell_type": "markdown",
      "metadata": {},
      "source": [
        "### 4.py"
      ]
    },
    {
      "cell_type": "code",
      "execution_count": null,
      "metadata": {},
      "outputs": [],
      "source": "input = input()\nlen = len(input)\nfor i in range(len):\n    print(input[len-i-1],end=\"\")"
    },
    {
      "cell_type": "markdown",
      "metadata": {},
      "source": [
        "### 5.py"
      ]
    },
    {
      "cell_type": "code",
      "execution_count": null,
      "metadata": {},
      "outputs": [],
      "source": "input = input()\nlist = input.split(',')\nnum = 1\nfor i in input:\n    if i==\",\":\n        num+=1\nprint(f\"{len(list)} {num}\")"
    },
    {
      "cell_type": "markdown",
      "metadata": {},
      "source": [
        "### 6.py"
      ]
    },
    {
      "cell_type": "code",
      "execution_count": null,
      "metadata": {},
      "outputs": [],
      "source": "input = input()\nnum = 0\nfor i in input:\n    if i == 'w' or i == 'W':\n       num+=1\nprint(num)"
    },
    {
      "cell_type": "markdown",
      "metadata": {},
      "source": [
        "### 7.py"
      ]
    },
    {
      "cell_type": "code",
      "execution_count": null,
      "metadata": {},
      "outputs": [],
      "source": "input_str = list(input())\nsorted_chars = sorted(input_str)\nresult = ' '.join(sorted_chars)\nprint(result)"
    },
    {
      "cell_type": "markdown",
      "metadata": {},
      "source": [
        "### 8.py"
      ]
    },
    {
      "cell_type": "code",
      "execution_count": null,
      "metadata": {},
      "outputs": [],
      "source": "# scores = []\n# for i in range(10):\n#     scores.append(float(input()))\nscores = [8.5, 9, 9, 10, 7, 8, 8, 9, 8, 10]\nscores.sort()\nscores = scores[1:-1]\naverage = sum(scores) / len(scores)\nprint(f\"{average:.2f}\")"
    },
    {
      "cell_type": "markdown",
      "metadata": {},
      "source": [
        "### 9.py"
      ]
    },
    {
      "cell_type": "code",
      "execution_count": null,
      "metadata": {},
      "outputs": [],
      "source": "scores = eval(input())\nfail_scores = [s for s in scores if s < 60]\nexcellent_scores = [s for s in scores if s >= 90]\nfail_avg = sum(fail_scores) / len(fail_scores) if fail_scores else 0\nexcellent_avg = sum(excellent_scores) / len(excellent_scores) if excellent_scores else 0\nprint(f\"{fail_avg:.1f}\")\nprint(f\"{excellent_avg:.1f}\")"
    },
    {
      "cell_type": "markdown",
      "metadata": {},
      "source": [
        "### 10.py"
      ]
    },
    {
      "cell_type": "code",
      "execution_count": null,
      "metadata": {},
      "outputs": [],
      "source": "votes = [4, 7, 8, 1, 2, 2, 6, 2, 2, 1, 6, 8, 7, 4, 5, 5, 5, 8, 5, 5, 4, 2, 2, 6, 4]\ncandidate = int(input())\nresult = candidate in votes\nprint(result)"
    },
    {
      "cell_type": "markdown",
      "metadata": {},
      "source": [
        "### 11.py"
      ]
    },
    {
      "cell_type": "code",
      "execution_count": null,
      "metadata": {},
      "outputs": [],
      "source": "grades = {'J01':88,'J02':60,'J03':80,'J04':96,'J05':86,'J06':75,'J07':76,'J08':82}\nprint(grades['J06'])\nprint(grades.values())"
    },
    {
      "cell_type": "markdown",
      "metadata": {},
      "source": [
        "### 12.py"
      ]
    },
    {
      "cell_type": "code",
      "execution_count": null,
      "metadata": {},
      "outputs": [],
      "source": "month_days = {1:31, 2:28, 3:31, 4:30, 5:31, 6:30, 7:31, 8:31, 9:30, 10:31, 11:30, 12:31}\nmonth = int(input())\nprint(month_days[month])"
    }
  ],
  "metadata": {
    "kernelspec": {
      "display_name": "Python 3",
      "language": "python",
      "name": "python3"
    },
    "language_info": {
      "codemirror_mode": {
        "name": "ipython",
        "version": 3
      },
      "file_extension": ".py",
      "mimetype": "text/x-python",
      "name": "python",
      "nbconvert_exporter": "python",
      "pygments_lexer": "ipython3",
      "version": "3.8.5"
    }
  },
  "nbformat": 4,
  "nbformat_minor": 4
}