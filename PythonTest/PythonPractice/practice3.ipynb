{
  "cells": [
    {
      "cell_type": "markdown",
      "metadata": {},
      "source": [
        "### 1.py"
      ]
    },
    {
      "cell_type": "code",
      "execution_count": null,
      "metadata": {},
      "outputs": [],
      "source": "x1, y1, x2, y2 = map(float, input().split(','))\ndistance = ((x2 - x1) ** 2 + (y2 - y1) ** 2) ** 0.5\nprint(f\"{distance:.1f}\")"
    },
    {
      "cell_type": "markdown",
      "metadata": {},
      "source": [
        "### 2.py"
      ]
    },
    {
      "cell_type": "code",
      "execution_count": null,
      "metadata": {},
      "outputs": [],
      "source": "pi = 3.14\nr = float(input())\ns = 4 * pi * r ** 2\nv = 4 / 3 * pi * r ** 3\nprint(f\"{s:.2f} {v:.2f}\")"
    },
    {
      "cell_type": "markdown",
      "metadata": {},
      "source": [
        "### 3.py"
      ]
    },
    {
      "cell_type": "code",
      "execution_count": null,
      "metadata": {},
      "outputs": [],
      "source": "n = int(input())\ny = n ** (1/3) if n % 2 else n ** 0.5\nprint(f\"y\u7684\u503c\u4e3a:{y}\")"
    },
    {
      "cell_type": "markdown",
      "metadata": {},
      "source": [
        "### 4.py"
      ]
    },
    {
      "cell_type": "code",
      "execution_count": null,
      "metadata": {},
      "outputs": [],
      "source": "w = float(input())\ny = w * 0.25 if w <= 50 else 50 * 0.25 + (w - 50) * 0.35\nprint(f\"\u884c\u674e\u6258\u8fd0\u7684\u8fd0\u8d39\u662f:{y}\u5143\")"
    },
    {
      "cell_type": "markdown",
      "metadata": {},
      "source": [
        "### 5.py"
      ]
    },
    {
      "cell_type": "code",
      "execution_count": null,
      "metadata": {},
      "outputs": [],
      "source": "salary = int(input())\nif salary <= 400:\n    f = salary * 0.005\nelif salary <= 600:\n    f = salary * 0.01\nelif salary <= 800:\n    f = salary * 0.015\nelif salary <= 1500:\n    f = salary * 0.02\nelse:\n    f = salary * 0.03\nprint(f\"\u5de5\u8d44{salary}\uff0c\u5e94\u7f34\u515a\u8d39{f:.2f}\u5143\")"
    },
    {
      "cell_type": "markdown",
      "metadata": {},
      "source": [
        "### 6.py"
      ]
    },
    {
      "cell_type": "code",
      "execution_count": null,
      "metadata": {},
      "outputs": [],
      "source": "a, b, c = map(float, input().split(','))\nif a + b > c and a + c > b and b + c > a:\n    if a == b == c:\n        print(\"\u4e09\u89d2\u5f62\u662f\u7b49\u8fb9\u4e09\u89d2\u5f62\")\n    elif a == b or a == c or b == c:\n        if abs(a**2 + b**2 - c**2) < 1e-6 or abs(a**2 + c**2 - b**2) < 1e-6 or abs(b**2 + c**2 - a**2) < 1e-6:\n            print(\"\u4e09\u89d2\u5f62\u662f\u7b49\u8170\u76f4\u89d2\u4e09\u89d2\u5f62\")\n        else:\n            print(\"\u4e09\u89d2\u5f62\u662f\u7b49\u8170\u975e\u76f4\u89d2\u4e09\u89d2\u5f62\")\n    elif abs(a**2 + b**2 - c**2) < 1e-6 or abs(a**2 + c**2 - b**2) < 1e-6 or abs(b**2 + c**2 - a**2) < 1e-6:\n        print(\"\u4e09\u89d2\u5f62\u662f\u975e\u7b49\u8170\u76f4\u89d2\u4e09\u89d2\u5f62\")\n    else:\n        print(\"\u4e09\u89d2\u5f62\u662f\u666e\u901a\u4e09\u89d2\u5f62\")\nelse:\n    print(\"\u8f93\u5165\u7684\u4e09\u4e2a\u6570\uff0c\u4e0d\u80fd\u4f5c\u4e3a\u4e09\u89d2\u5f62\u7684\u8fb9\u7ec4\u6210\u4e09\u89d2\u5f62\u3002\")"
    },
    {
      "cell_type": "markdown",
      "metadata": {},
      "source": [
        "### 7.py"
      ]
    },
    {
      "cell_type": "code",
      "execution_count": null,
      "metadata": {},
      "outputs": [],
      "source": "M = int(input())\nN = int(input())\n\nif N % 2 != 0:\n    print(\"\u8f93\u5165\u7684\u811a\u6570\u4e3a\u5947\u6570\uff0c\u4e0d\u5408\u7406\uff01\")\nelse:\n    x = 2 * M - N // 2\n    y = M - x\n\n    if x < 0 or y < 0:\n        print(\"\u6c42\u51fa\u7684\u53ea\u6570\u4e3a\u8d1f\uff0c\u8f93\u5165\u7684\u6570\u636e\u4e0d\u5408\u7406\uff01\")\n    else:\n        print(f\"\u9e21\u6709{x}\u53ea\uff0c\u5154\u6709{y}\u53ea\")"
    },
    {
      "cell_type": "markdown",
      "metadata": {},
      "source": [
        "### 8.py"
      ]
    },
    {
      "cell_type": "code",
      "execution_count": null,
      "metadata": {},
      "outputs": [],
      "source": "year = int(input())\nmonth = int(input())\n\nif not (1000 <= year <= 2100 and 1 <= month <= 12):\n    print(\"\u8f93\u5165\u7684\u5e74\u4efd\u6216\u6708\u4efd\u4e0d\u5408\u6cd5\uff01\")\nelse:\n    is_leap = (year % 4 == 0 and year % 100 != 0) or (year % 400 == 0)\n    print(f\"{year}\u5e74{'\u662f\u95f0\u5e74' if is_leap else '\u4e0d\u662f\u95f0\u5e74'}\")\n\n    if month in [1, 2, 3]:\n        quarter = \"\u7b2c\u4e00\"\n    elif month in [4, 5, 6]:\n        quarter = \"\u7b2c\u4e8c\"\n    elif month in [7, 8, 9]:\n        quarter = \"\u7b2c\u4e09\"\n    else:\n        quarter = \"\u7b2c\u56db\"\n    print(f\"{month}\u6708\u662f{quarter}\u5b63\u5ea6\")\n\n    if month == 2:\n        days = 29 if is_leap else 28\n    elif month in [4, 6, 9, 11]:\n        days = 30\n    else:\n        days = 31\n    print(f\"{month}\u6708\u6709{days}\u5929\")\n"
    },
    {
      "cell_type": "markdown",
      "metadata": {},
      "source": [
        "### 9.py"
      ]
    },
    {
      "cell_type": "code",
      "execution_count": null,
      "metadata": {},
      "outputs": [],
      "source": "a, b, c = map(float, input().split(','))\n\nif a == 0 and b == 0:\n    print(\"\u65b9\u7a0b\u65e0\u610f\u4e49\")\nelif a == 0:\n    x = -c / b\n    print(f\"\u65b9\u7a0b\u6709\u4e00\u4e2a\u6839:{x:.2f}\")\nelse:\n    delta = b**2 - 4*a*c\n    if delta > 0:\n        x1 = (-b + delta**0.5) / (2*a)\n        x2 = (-b - delta**0.5) / (2*a)\n        print(f\"\u65b9\u7a0b\u6709\u4e24\u4e2a\u4e0d\u7b49\u5b9e\u6839:x1={x1:.2f},x2={x2:.2f}\")\n    elif delta == 0:\n        x = -b / (2*a)\n        print(f\"\u65b9\u7a0b\u6709\u4e24\u4e2a\u76f8\u7b49\u5b9e\u6839:x1={x:.2f},x2={x:.2f}\")\n    else:\n        real = -b / (2*a)\n        imag = (-delta)**0.5 / (2*a)\n        x1 = complex(real, imag)\n        x2 = complex(real, -imag)\n        print(f\"\u65b9\u7a0b\u6709\u4e24\u4e2a\u4e0d\u7b49\u865a\u6839:x1=({x1:.2f}),x2=({x2:.2f})\")"
    },
    {
      "cell_type": "markdown",
      "metadata": {},
      "source": [
        "### 10.py"
      ]
    },
    {
      "cell_type": "code",
      "execution_count": null,
      "metadata": {},
      "outputs": [],
      "source": "m1 = int(input())\nm2 = int(input())\nm3 = int(input())\n\navg = (m1 + m2 + m3) / 3\n\nif avg > 95 or ((m1 == 100 and m2 == 100 and m3 >= 80) or\n                (m1 == 100 and m3 == 100 and m2 >= 80) or\n                (m2 == 100 and m3 == 100 and m1 >= 80)):\n    print(\"\u8be5\u540c\u5b66\u83b7\u5f97\u4e00\u7b49\u5956\u5b66\u91d1\u3002\")\nelif avg > 90 or ((m1 == 100 and m2 >= 75 and m3 >= 75) or\n                 (m2 == 100 and m1 >= 75 and m3 >= 75) or\n                 (m3 == 100 and m1 >= 75 and m2 >= 75)):\n    print(\"\u8be5\u540c\u5b66\u83b7\u5f97\u4e8c\u7b49\u5956\u5b66\u91d1\u3002\")\nelif m1 >= 70 and m2 >= 70 and m3 >= 70:\n    print(\"\u8be5\u540c\u5b66\u83b7\u5f97\u4e09\u7b49\u5956\u5b66\u91d1\u3002\")\nelse:\n    print(\"\u8be5\u540c\u5b66\u6ca1\u6709\u83b7\u5f97\u5956\u5b66\u91d1\u3002\")"
    }
  ],
  "metadata": {
    "kernelspec": {
      "display_name": "Python 3",
      "language": "python",
      "name": "python3"
    },
    "language_info": {
      "codemirror_mode": {
        "name": "ipython",
        "version": 3
      },
      "file_extension": ".py",
      "mimetype": "text/x-python",
      "name": "python",
      "nbconvert_exporter": "python",
      "pygments_lexer": "ipython3",
      "version": "3.8.5"
    }
  },
  "nbformat": 4,
  "nbformat_minor": 4
}