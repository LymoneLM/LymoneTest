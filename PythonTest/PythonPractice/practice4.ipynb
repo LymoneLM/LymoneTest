{
  "cells": [
    {
      "cell_type": "markdown",
      "metadata": {},
      "source": [
        "### 1.py"
      ]
    },
    {
      "cell_type": "code",
      "execution_count": null,
      "metadata": {},
      "outputs": [],
      "source": "num = int(input())\noriginal = num\nreverse = 0\n\nwhile num > 0:\n    digit = num % 10\n    reverse = reverse * 10 + digit\n    num = num // 10\n\nprint(f\"{original}\u7684\u53cd\u5e8f\u6570\u662f:{reverse}\")"
    },
    {
      "cell_type": "markdown",
      "metadata": {},
      "source": [
        "### 2.py"
      ]
    },
    {
      "cell_type": "code",
      "execution_count": null,
      "metadata": {},
      "outputs": [],
      "source": "N = int(input())\nK = 0\nsum_squares = 0\n\nwhile True:\n    K += 1\n    sum_squares += K * K\n    if sum_squares >= N:\n        K -= 1\n        break\n\nprint(f\"\u6700\u5927K\u503c\u662f{K}\")"
    },
    {
      "cell_type": "markdown",
      "metadata": {},
      "source": [
        "### 3.py"
      ]
    },
    {
      "cell_type": "code",
      "execution_count": null,
      "metadata": {},
      "outputs": [],
      "source": "n = int(input())\nfor i in range(n + 1):\n    spaces = ' ' * (n - i)\n    numbers = str(i) * (2 * i + 1)\n    print(spaces + numbers)"
    },
    {
      "cell_type": "markdown",
      "metadata": {},
      "source": [
        "### 4.py"
      ]
    },
    {
      "cell_type": "code",
      "execution_count": null,
      "metadata": {},
      "outputs": [],
      "source": "a, b, c = eval(input())\n\ndef gcd(x, y):\n    while y:\n        x, y = y, x % y\n    return x\n\ngcd_ab = gcd(a, b)\ngcd_abc = gcd(gcd_ab, c)\n\nlcm_ab = a * b // gcd_ab\nlcm_abc = lcm_ab * c // gcd(lcm_ab, c)\n\nprint(f\"\u6700\u5927\u516c\u7ea6\u6570\u662f{gcd_abc}\uff0c\u6700\u5c0f\u516c\u500d\u6570\u662f{lcm_abc}\u3002\")"
    },
    {
      "cell_type": "markdown",
      "metadata": {},
      "source": [
        "### 5.py"
      ]
    },
    {
      "cell_type": "code",
      "execution_count": null,
      "metadata": {},
      "outputs": [],
      "source": "n = int(input())\nresult = []\n\nfor num in range(100, n + 1):\n    a = num // 100\n    b = (num // 10) % 10\n    c = num % 10\n    if num == a**3 + b**3 + c**3:\n        result.append(str(num))\n\nprint(' '.join(result))"
    },
    {
      "cell_type": "markdown",
      "metadata": {},
      "source": [
        "### 6.py"
      ]
    },
    {
      "cell_type": "code",
      "execution_count": null,
      "metadata": {},
      "outputs": [],
      "source": "n = int(input())\n\nfor num in range(1, n + 1):\n    sum_factors = 0\n    for i in range(1, num):\n        if num % i == 0:\n            sum_factors += i\n    if sum_factors == num:\n        print(num)"
    },
    {
      "cell_type": "markdown",
      "metadata": {},
      "source": [
        "### 7.py"
      ]
    },
    {
      "cell_type": "code",
      "execution_count": null,
      "metadata": {},
      "outputs": [],
      "source": "n = int(input())\n\nfor num in range(1, n + 1):\n    square = num * num\n    if str(num) == str(square)[-len(str(num)):] or str(num) == str(square):\n        print(num)\n"
    },
    {
      "cell_type": "markdown",
      "metadata": {},
      "source": [
        "### 8.py"
      ]
    },
    {
      "cell_type": "code",
      "execution_count": null,
      "metadata": {},
      "outputs": [],
      "source": "n = int(input())\n\ndef is_prime(num):\n    if num < 2:\n        return False\n    for i in range(2, int(num**0.5) + 1):\n        if num % i == 0:\n            return False\n    return True\n\nsum_primes = sum(num for num in range(2, n) if is_prime(num))\nprint(sum_primes)"
    },
    {
      "cell_type": "markdown",
      "metadata": {},
      "source": [
        "### 9.py"
      ]
    },
    {
      "cell_type": "code",
      "execution_count": null,
      "metadata": {},
      "outputs": [],
      "source": "import math\n\nn = int(input())\npairs = []\n\nfor a in range(1, n + 1):\n    for b in range(a + 1, n + 1):\n        sum_ab = a + b\n        diff_ab = b - a\n        if math.sqrt(sum_ab) == int(math.sqrt(sum_ab)) and math.sqrt(diff_ab) == int(math.sqrt(diff_ab)):\n            pairs.append((a, b))\n\nprint(f\"{n}\u4ee5\u5185\u7684\u81ea\u7136\u6570\u5bf9\u6709\uff1a\")\nfor pair in pairs:\n    print(pair[0], pair[1])\n\nprint(f\"\u81ea\u7136\u6570\u5bf9\u5171\u6709{len(pairs)}\u5bf9\u3002\")"
    },
    {
      "cell_type": "markdown",
      "metadata": {},
      "source": [
        "### 10.py"
      ]
    },
    {
      "cell_type": "code",
      "execution_count": null,
      "metadata": {},
      "outputs": [],
      "source": "for A in range(1, 10):\n    for B in range(0, 10):\n        for C in range(1, 10):\n            for D in range(0, 10):\n                ABCD = A * 1000 + B * 100 + C * 10 + D\n                CDC = C * 100 + D * 10 + C\n                ABC = A * 100 + B * 10 + C\n                if ABCD - CDC == ABC:\n                    print(f\"A={A} B={B} C={C} D={D}\")\n"
    },
    {
      "cell_type": "markdown",
      "metadata": {},
      "source": [
        "### 11.py"
      ]
    },
    {
      "cell_type": "code",
      "execution_count": null,
      "metadata": {},
      "outputs": [],
      "source": "M = int(input())\nN = int(input())\n\nif N % 2 != 0:\n    print(\"\u8f93\u5165\u7684\u811a\u6570\u4e3a\u5947\u6570\uff0c\u4e0d\u5408\u7406\uff01\")\nelse:\n    found = False\n    for chicken in range(M + 1):\n        rabbit = M - chicken\n        if 2 * chicken + 4 * rabbit == N:\n            print(f\"\u9e21\u6709{chicken}\u53ea\uff0c\u5154\u6709{rabbit}\u53ea\")\n            found = True\n            break\n\n    if not found:\n        print(\"\u6c42\u51fa\u7684\u53ea\u6570\u4e3a\u8d1f\uff0c\u8f93\u5165\u7684\u6570\u636e\u4e0d\u5408\u7406\uff01\")"
    },
    {
      "cell_type": "markdown",
      "metadata": {},
      "source": [
        "### 12.py"
      ]
    },
    {
      "cell_type": "code",
      "execution_count": null,
      "metadata": {},
      "outputs": [],
      "source": "M = int(input())\nsequence = [1, 2, 3]\nn = 3\n\nwhile sequence[-1] <= M:\n    next_value = sequence[-1] + sequence[-2] + sequence[-3]\n    sequence.append(next_value)\n    n += 1\n\nprint(f\"\u6570\u5217\u4ece\u7b2c{n}\u9879\u5f00\u59cb\uff0c\u6570\u503c\u8d85\u8fc7{M}\u3002\")\nprint(f\"\u7b2c{n}\u9879\u7684\u503c\u4e3a{sequence[-1]}\u3002\")"
    },
    {
      "cell_type": "markdown",
      "metadata": {},
      "source": [
        "### 13.py"
      ]
    },
    {
      "cell_type": "code",
      "execution_count": null,
      "metadata": {},
      "outputs": [],
      "source": "eps = float(input())\npi = 0\nsign = 1\ndenominator = 1\nterm = 1\n\nwhile abs(term) >= eps:\n    pi += term\n    sign *= -1\n    denominator += 2\n    term = sign / denominator\n\npi *= 4\nprint(f\"\u8fd1\u4f3c\u503c\u4e3a:{pi}\")"
    },
    {
      "cell_type": "markdown",
      "metadata": {},
      "source": [
        "### 14.py"
      ]
    },
    {
      "cell_type": "code",
      "execution_count": null,
      "metadata": {},
      "outputs": [],
      "source": "# \u4e3a\u4ec0\u4e48\u8fd9\u9898\u90e8\u5206\u901a\u8fc7\uff1fWhy?\n# md \u5929\u624d\u51fa\u9898\u4eba 666\nimport math\n\ninput = input()\nx = float(input)\neps = 1e-6\nsin_x = 0\nn = 1\nterm = x\n\nwhile abs(term) >= eps:\n    sin_x += term\n    n += 1\n    term = (-1)**(n+1) * x**(2*n - 1) / math.factorial(2*n - 1)\n\nprint(f\"sin({input})\u7684\u8fd1\u4f3c\u503c\u4e3a:{sin_x:.10f}\")\n\n# x = float(input())\n# eps = 1e-6\n# sin_x = 0.0\n# term = x\n# n = 0\n#\n# while True:\n#     if abs(term) < eps:\n#         break\n#     sin_x += term\n#     n += 1\n#     term = (-term) * x * x / ((2*n) * (2*n + 1))\n#\n# print(f\"sin({x:.2f})\u7684\u8fd1\u4f3c\u503c\u4e3a:{sin_x:.10f}\")\n\n# import math\n#\n# x_origin = float(input())\n# eps = 1e-6\n#\n# x = math.fmod(x_origin, 2 * math.pi)\n# if x > math.pi:\n#     x -= 2 * math.pi\n# elif x < -math.pi:\n#     x += 2 * math.pi\n#\n# sin_x = 0.0\n# term = x\n# n = 0\n#\n# while True:\n#     if abs(term) < eps:\n#         break\n#     sin_x += term\n#     n += 1\n#     term = (-term) * x * x / ((2 * n) * (2 * n + 1))\n#\n# print(f\"sin({x_origin})\u7684\u8fd1\u4f3c\u503c\u4e3a:{sin_x:.10f}\")"
    },
    {
      "cell_type": "markdown",
      "metadata": {},
      "source": [
        "### 15.py"
      ]
    },
    {
      "cell_type": "code",
      "execution_count": null,
      "metadata": {},
      "outputs": [],
      "source": "a = float(input())\neps = 1e-6\nx_prev = a\nx_next = 0.5 * (x_prev + a / x_prev)\n\nwhile abs(x_next - x_prev) >= eps:\n    x_prev = x_next\n    x_next = 0.5 * (x_prev + a / x_prev)\n\nprint(f\"x\u7684\u8fd1\u4f3c\u503c\u4e3a:{x_next:.6f}\")"
    }
  ],
  "metadata": {
    "kernelspec": {
      "display_name": "Python 3",
      "language": "python",
      "name": "python3"
    },
    "language_info": {
      "codemirror_mode": {
        "name": "ipython",
        "version": 3
      },
      "file_extension": ".py",
      "mimetype": "text/x-python",
      "name": "python",
      "nbconvert_exporter": "python",
      "pygments_lexer": "ipython3",
      "version": "3.8.5"
    }
  },
  "nbformat": 4,
  "nbformat_minor": 4
}