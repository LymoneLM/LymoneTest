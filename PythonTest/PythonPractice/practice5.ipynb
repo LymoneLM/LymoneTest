{
  "cells": [
    {
      "cell_type": "markdown",
      "metadata": {},
      "source": [
        "### 1.py"
      ]
    },
    {
      "cell_type": "code",
      "execution_count": null,
      "metadata": {},
      "outputs": [],
      "source": "def is_odd(num):\n    return num % 2 != 0\n\nn = int(input())\nprint(f\"{n}\u662f{'\u5947\u6570' if is_odd(n) else '\u5076\u6570'}\")"
    },
    {
      "cell_type": "markdown",
      "metadata": {},
      "source": [
        "### 2.py"
      ]
    },
    {
      "cell_type": "code",
      "execution_count": null,
      "metadata": {},
      "outputs": [],
      "source": "def passed(score):\n    if score < 0 or score > 100:\n        return \"\u8f93\u5165\u7684\u6210\u7ee9\u9519\u8bef\uff01\"\n    elif score >= 60:\n        return \"\u8be5\u540c\u5b66\u6210\u7ee9\u5408\u683c\u5566\uff01\"\n    else:\n        return \"\u8be5\u540c\u5b66\u6210\u7ee9\u4e0d\u5408\u683c\uff0c\u9700\u7ee7\u7eed\u52aa\u529b\uff01\"\n\nscore = int(input())\nprint(passed(score))"
    },
    {
      "cell_type": "markdown",
      "metadata": {},
      "source": [
        "### 3.py"
      ]
    },
    {
      "cell_type": "code",
      "execution_count": null,
      "metadata": {},
      "outputs": [],
      "source": "def string_num(ch):\n    letters = 0\n    digits = 0\n    spaces = 0\n    others = 0\n    for char in ch:\n        if char.isalpha():\n            letters += 1\n        elif char.isdigit():\n            digits += 1\n        elif char.isspace():\n            spaces += 1\n        else:\n            others += 1\n    return letters, digits, spaces, others\n\nch = input()\nletters, digits, spaces, others = string_num(ch)\nprint(f\"\u7edf\u8ba1\u7ed3\u679c\uff1a\u5b57\u6bcd\u6709{letters}\u4e2a\uff0c\u6570\u5b57\u6709{digits}\u4e2a\uff0c\u7a7a\u683c\u6709{spaces}\u4e2a\uff0c\u5176\u4ed6\u5b57\u7b26\u6709{others}\u4e2a\u3002\")"
    },
    {
      "cell_type": "markdown",
      "metadata": {},
      "source": [
        "### 4.py"
      ]
    },
    {
      "cell_type": "code",
      "execution_count": null,
      "metadata": {},
      "outputs": [],
      "source": "def coprime(a, b):\n    while b:\n        a, b = b, a % b\n    return a == 1\n\na, b = map(int, input().split(','))\nif coprime(a, b):\n    print(f\"{a}\u548c{b}\u4e92\u8d28\")\nelse:\n    print(f\"{a}\u548c{b}\u4e0d\u4e92\u8d28\")"
    },
    {
      "cell_type": "markdown",
      "metadata": {},
      "source": [
        "### 5.py"
      ]
    },
    {
      "cell_type": "code",
      "execution_count": null,
      "metadata": {},
      "outputs": [],
      "source": "def fib(n):\n    fib_list = []\n    a, b = 1, 1\n    for _ in range(n):\n        fib_list.append(a)\n        a, b = b, a + b\n    return fib_list\n\nn = int(input())\nprint(fib(n))"
    },
    {
      "cell_type": "markdown",
      "metadata": {},
      "source": [
        "### 6.py"
      ]
    },
    {
      "cell_type": "code",
      "execution_count": null,
      "metadata": {},
      "outputs": [],
      "source": "def FacSum(n):\n    if n == 1:\n        return 0\n    sum_factors = 1\n    for i in range(2, int(n**0.5) + 1):\n        if n % i == 0:\n            if i == n // i:\n                sum_factors += i\n            else:\n                sum_factors += i + n // i\n    return sum_factors\n\nx = int(input())\npairs = set()\n\nfor a in range(2, x):\n    b = FacSum(a)\n    if b > a and FacSum(b) == a:\n        pairs.add((a, b))\n\nfor pair in sorted(pairs):\n    print(f\"\u4eb2\u5bc6\u6570\u5bf9:A={pair[0]:4},B={pair[1]:4}\")"
    },
    {
      "cell_type": "markdown",
      "metadata": {},
      "source": [
        "### 7.py"
      ]
    },
    {
      "cell_type": "code",
      "execution_count": null,
      "metadata": {},
      "outputs": [],
      "source": "def huiwen(num):\n    return str(num) == str(num)[::-1]\n\nM = int(input())\nprint(f\"{M}{'\u662f' if huiwen(M) else '\u4e0d\u662f'}\u56de\u6587\u6570\")"
    },
    {
      "cell_type": "markdown",
      "metadata": {},
      "source": [
        "### 8.py"
      ]
    },
    {
      "cell_type": "code",
      "execution_count": null,
      "metadata": {},
      "outputs": [],
      "source": "def prime(n):\n    if n < 2:\n        return False\n    for i in range(2, int(n**0.5)+1):\n        if n % i == 0:\n            return False\n    return True\n\na, b = map(int, input().split(','))\nfor num in range(a, b+1):\n    if num % 2 == 0:\n        for i in range(2, num//2 + 1):\n            if prime(i) and prime(num - i):\n                print(f\"{num}={i}+{num-i}\")\n                break"
    },
    {
      "cell_type": "markdown",
      "metadata": {},
      "source": [
        "### 9.py"
      ]
    },
    {
      "cell_type": "code",
      "execution_count": null,
      "metadata": {},
      "outputs": [],
      "source": "def is_prime(n):\n    if n < 2:\n        return False\n    for i in range(2, int(n**0.5)+1):\n        if n % i == 0:\n            return False\n    return True\n\ndef is_palindrome(n):\n    return str(n) == str(n)[::-1]\n\nx = int(input())\ncount = 0\nnum = 2\nresult = []\n\nwhile count < x:\n    if is_prime(num) and is_palindrome(num):\n        result.append(str(num))\n        count += 1\n    num += 1\n\nfor i in range(0, len(result), 10):\n    print(','.join(result[i:i+10]) + ',')"
    },
    {
      "cell_type": "markdown",
      "metadata": {},
      "source": [
        "### 10.py"
      ]
    },
    {
      "cell_type": "code",
      "execution_count": null,
      "metadata": {},
      "outputs": [],
      "source": "def isSymmetrical(lst):\n    for i in range(4):\n        for j in range(4):\n            if lst[i][j] != lst[j][i]:\n                return False\n    return True\n\n\ndef matrix_sum(lst):\n    total = 0\n    for i in range(4):\n        total += lst[i][i]\n    return total\n\n\nif __name__ == \"__main__\":\n    matrix = []\n    for _ in range(4):\n        row = list(map(int, input().split(',')))\n        matrix.append(row)\n\n    if isSymmetrical(matrix):\n        print(\"\u77e9\u9635\u662f\u5bf9\u79f0\u77e9\u9635\")\n    else:\n        print(\"\u77e9\u9635\u4e0d\u662f\u5bf9\u79f0\u77e9\u9635\")\n\n    print(f\"\u77e9\u9635\u5bf9\u89d2\u7ebf\u5143\u7d20\u548c\u662f: {matrix_sum(matrix)}\")"
    },
    {
      "cell_type": "markdown",
      "metadata": {},
      "source": [
        "### 11.py"
      ]
    },
    {
      "cell_type": "code",
      "execution_count": null,
      "metadata": {},
      "outputs": [],
      "source": "# \u9012\u63a8\u6cd5\ndef iterative_f(n):\n    total = 0.0\n    for i in range(1, n+1):\n        total += i / (2*i + 1)\n    return total\n\n# \u9012\u5f52\u6cd5\ndef recursive_f(n):\n    if n == 0:\n        return 0.0\n    return n / (2*n + 1) + recursive_f(n-1)\n\nn = int(input())\nprint(f\"\u9012\u63a8\u6cd5f({n})={iterative_f(n)}\")\nprint(f\"\u9012\u5f52\u6cd5f({n})={recursive_f(n)}\")"
    },
    {
      "cell_type": "markdown",
      "metadata": {},
      "source": [
        "### 12.py"
      ]
    },
    {
      "cell_type": "code",
      "execution_count": null,
      "metadata": {},
      "outputs": [],
      "source": "def resolve(n,x):\n    if n == 0:\n        return 1\n    if n == 1:\n        return x\n    return ((2 * n - 1) * x * resolve(n - 1, x) - (n - 1) * resolve(n - 2, x))/n\nn = int(input())\nx = float(input())\nprint(f\"Legendre\u591a\u9879\u5f0f\u7684\u503c\uff1a {resolve(n,x)}\")"
    }
  ],
  "metadata": {
    "kernelspec": {
      "display_name": "Python 3",
      "language": "python",
      "name": "python3"
    },
    "language_info": {
      "codemirror_mode": {
        "name": "ipython",
        "version": 3
      },
      "file_extension": ".py",
      "mimetype": "text/x-python",
      "name": "python",
      "nbconvert_exporter": "python",
      "pygments_lexer": "ipython3",
      "version": "3.8.5"
    }
  },
  "nbformat": 4,
  "nbformat_minor": 4
}