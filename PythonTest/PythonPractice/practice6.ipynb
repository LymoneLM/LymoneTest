{
  "cells": [
    {
      "cell_type": "markdown",
      "metadata": {},
      "source": [
        "### 1.py"
      ]
    },
    {
      "cell_type": "code",
      "execution_count": null,
      "metadata": {},
      "outputs": [],
      "source": "class BMI:\n    def __init__(self, height, weight):\n        self.bmi = weight / (height ** 2)\n    def printBMI(self):\n        print(\"\u60a8\u7684BMI\u6307\u6570\u662f\uff1a{:.1f}\".format(self.bmi))\n\nclass ChinaBMI(BMI):\n    def printBMI(self):\n        bmi_level = [\"\u504f\u7626\",\"\u6b63\u5e38\",\"\u504f\u80d6\",\"\u80a5\u80d6\",\"\u91cd\u5ea6\u80a5\u80d6\"]\n        rate_level = [\"\u4f4e\",\"\u5e73\u5747\u6c34\u5e73\",\"\u589e\u52a0\",\"\u4e2d\u6bd2\u589e\u52a0\",\"\u4e25\u91cd\u589e\u52a0\"]\n        level = 0\n        if self.bmi < 18.5:\n            level = 0\n        elif self.bmi <= 23.9:\n            level = 1\n        elif self.bmi <= 26.9:\n            level = 2\n        elif self.bmi <= 29.9:\n            level = 3\n        else:\n            level = 4\n        print(f\"\u60a8\u7684BMI\u6307\u6570\u662f\uff1a{self.bmi:.1f}\\n\"\n              f\"{bmi_level[level]}\uff0c\u76f8\u5173\u75be\u75c5\u53d1\u75c5\u7684\u5371\u9669\u6027\uff1a{rate_level[level]}\")\nheight = float(input())\nweight = float(input())\nperson = ChinaBMI(height, weight)\nperson.printBMI()\n"
    },
    {
      "cell_type": "markdown",
      "metadata": {},
      "source": [
        "### 2.py"
      ]
    },
    {
      "cell_type": "code",
      "execution_count": null,
      "metadata": {},
      "outputs": [],
      "source": "class Vehicle:\n    def __init__(self, speed, size, time, acceleration):\n        print(f\"\u521d\u901f\u5ea6:{speed} \u52a0\u901f\u5ea6:{acceleration} \u4f53\u79ef:{size}\")\n        self.speed = speed\n        self.size = size\n        self.time = time\n        self.acceleration = acceleration\n\n    def move(self):\n        print(f\"\u79fb\u52a8\u4e86\uff1a{self.speed * self.time}\")\n\n    def setSpeed(self):\n        print(f\"\u8bbe\u7f6e\u7684\u521d\u901f\u5ea6\u4e3a:{self.speed}\")\n\n    def speedUp(self):\n        print(f\"\u52a0\u901f\u5b8c\u540e\u901f\u5ea6\u662f:{self.speed + self.acceleration * self.time}\")\n\n    def speedDown(self):\n        print(f\"\u51cf\u901f\u5b8c\u540e\u901f\u5ea6\u662f:{max(0, self.speed - self.acceleration * self.time)}\")\n\n\nspeed = int(input())\nsize = int(input())\ntime = int(input())\nacceleration = int(input())\nv = Vehicle(speed, size, time, acceleration)\nv.setSpeed()\nv.speedUp()\nv.speedDown()"
    },
    {
      "cell_type": "markdown",
      "metadata": {},
      "source": [
        "### 3.py"
      ]
    },
    {
      "cell_type": "code",
      "execution_count": null,
      "metadata": {},
      "outputs": [],
      "source": "class Point:\n    def __init__(self, x, y):\n        self.x = x\n        self.y = y\n    def distance(self, other):\n        return round(((self.x - other.x)**2 + (self.y - other.y)**2)**0.5, 2)\n\nclass Line:\n    def __init__(self, p1, p2):\n        dx = p1.x - p2.x\n        dy = p1.y - p2.y\n        self.k = None if dx == 0 else dy / dx\n    def relationship(self, other):\n        if self.k is None and other.k is None:\n            return \"\u5e73\u884c\"\n        if self.k is None or other.k is None:\n            return \"\u76f8\u4ea4\"\n        return \"\u5e73\u884c\" if abs(self.k - other.k) < 1e-9 else \"\u76f8\u4ea4\"\n\np = [Point(*map(float, input().split(','))) for _ in range(4)]\nprint(f\"\u4e24\u70b9\u7684\u6b27\u5f0f\u8ddd\u79bb\u662f{p[0].distance(p[1]):.2f}\")\nline1, line2 = Line(p[0], p[1]), Line(p[2], p[3])\nprint(line1.relationship(line2))"
    }
  ],
  "metadata": {
    "kernelspec": {
      "display_name": "Python 3",
      "language": "python",
      "name": "python3"
    },
    "language_info": {
      "codemirror_mode": {
        "name": "ipython",
        "version": 3
      },
      "file_extension": ".py",
      "mimetype": "text/x-python",
      "name": "python",
      "nbconvert_exporter": "python",
      "pygments_lexer": "ipython3",
      "version": "3.8.5"
    }
  },
  "nbformat": 4,
  "nbformat_minor": 4
}